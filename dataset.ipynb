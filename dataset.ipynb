{
 "cells": [
  {
   "cell_type": "code",
   "execution_count": 2,
   "metadata": {},
   "outputs": [],
   "source": [
    "import numpy as np\n",
    "import torch as t\n",
    "from torch.utils.data import Dataset"
   ]
  },
  {
   "cell_type": "code",
   "execution_count": 3,
   "metadata": {},
   "outputs": [],
   "source": [
    "rng = np.random.default_rng()"
   ]
  },
  {
   "cell_type": "code",
   "execution_count": 4,
   "metadata": {},
   "outputs": [],
   "source": [
    "class MyMappedDataset(Dataset):\n",
    "    def __init__(self, n=5, m=10):\n",
    "        self._x = np.arange(n * m).reshape(m, n)\n",
    "        self._y = rng.choice([0, 1], size=m, p=[0.7, 0.3])\n",
    "\n",
    "    def __getitem__(self, idx):\n",
    "        return self._x[idx], self._y[idx]\n",
    "\n",
    "    def __len__(self):\n",
    "        return self._x.shape[0]"
   ]
  },
  {
   "cell_type": "code",
   "execution_count": 6,
   "metadata": {},
   "outputs": [
    {
     "name": "stdout",
     "output_type": "stream",
     "text": [
      "(array([0, 1, 2, 3, 4]), 0)\n",
      "(array([5, 6, 7, 8, 9]), 0)\n",
      "(array([10, 11, 12, 13, 14]), 1)\n",
      "(array([15, 16, 17, 18, 19]), 0)\n",
      "(array([20, 21, 22, 23, 24]), 1)\n",
      "(array([25, 26, 27, 28, 29]), 0)\n",
      "(array([30, 31, 32, 33, 34]), 0)\n",
      "(array([35, 36, 37, 38, 39]), 0)\n",
      "(array([40, 41, 42, 43, 44]), 0)\n",
      "(array([45, 46, 47, 48, 49]), 1)\n"
     ]
    }
   ],
   "source": [
    "ds = MyMappedDataset()\n",
    "for i in range(len(ds)):\n",
    "    print(ds[i])"
   ]
  },
  {
   "cell_type": "code",
   "execution_count": 7,
   "metadata": {},
   "outputs": [],
   "source": [
    "from torch.utils.data import IterableDataset"
   ]
  },
  {
   "cell_type": "code",
   "execution_count": 8,
   "metadata": {},
   "outputs": [],
   "source": [
    "class MyStreamingDataset(IterableDataset):\n",
    "    def __init__(self, n):\n",
    "        super().__init__()\n",
    "        self._n = n\n",
    "\n",
    "    def __iter__(self):\n",
    "        start = 0\n",
    "        while True:\n",
    "            x = np.arange(start, start+self._n)\n",
    "            y = rng.choice([0, 1], size=1, p=[0.7, 0.3])\n",
    "            yield x, y\n",
    "            start += self._n"
   ]
  },
  {
   "cell_type": "code",
   "execution_count": 10,
   "metadata": {},
   "outputs": [
    {
     "name": "stdout",
     "output_type": "stream",
     "text": [
      "[0 1 2 3 4] [0]\n",
      "[5 6 7 8 9] [0]\n",
      "[10 11 12 13 14] [0]\n",
      "[15 16 17 18 19] [0]\n",
      "[20 21 22 23 24] [1]\n",
      "[25 26 27 28 29] [0]\n"
     ]
    }
   ],
   "source": [
    "ctr = 0\n",
    "for x, y in MyStreamingDataset(5):\n",
    "    print(x, y)\n",
    "    if ctr >= 5: break\n",
    "    ctr += 1"
   ]
  },
  {
   "cell_type": "code",
   "execution_count": null,
   "metadata": {},
   "outputs": [],
   "source": []
  }
 ],
 "metadata": {
  "kernelspec": {
   "display_name": "ai",
   "language": "python",
   "name": "python3"
  },
  "language_info": {
   "codemirror_mode": {
    "name": "ipython",
    "version": 3
   },
   "file_extension": ".py",
   "mimetype": "text/x-python",
   "name": "python",
   "nbconvert_exporter": "python",
   "pygments_lexer": "ipython3",
   "version": "3.10.6 | packaged by conda-forge | (main, Aug 22 2022, 20:41:22) [Clang 13.0.1 ]"
  },
  "orig_nbformat": 4,
  "vscode": {
   "interpreter": {
    "hash": "c957e4ca480fc31da01b2648e097b4e55db834b6351128636991f182c884d81e"
   }
  }
 },
 "nbformat": 4,
 "nbformat_minor": 2
}
